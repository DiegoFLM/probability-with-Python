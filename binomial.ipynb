{
 "cells": [
  {
   "cell_type": "code",
   "execution_count": 9,
   "metadata": {},
   "outputs": [],
   "source": [
    "import numpy as np\n",
    "from numpy.random import binomial\n",
    "from scipy.stats import binom\n",
    "from math import factorial\n",
    "import matplotlib.pyplot as plt"
   ]
  },
  {
   "cell_type": "markdown",
   "metadata": {},
   "source": [
    "## sequences of Bernoulli trials.\n",
    "\n",
    "$$\n",
    "P(k, n; p) = {n \\choose k} p^k (1-p)^{n-k} = \\frac{n!}{k!(n-k)!}p^k (1-p)^{n-k}\n",
    "$$"
   ]
  },
  {
   "cell_type": "code",
   "execution_count": 10,
   "metadata": {},
   "outputs": [],
   "source": [
    "# Binomial distribution function\n",
    "def my_binomial(k, n, p):\n",
    "  return factorial(n)/(factorial(k)*(factorial(n-k)))*pow(p,k)*pow(1-p, n-k)"
   ]
  },
  {
   "cell_type": "code",
   "execution_count": 11,
   "metadata": {},
   "outputs": [
    {
     "data": {
      "text/plain": [
       "0.375"
      ]
     },
     "execution_count": 11,
     "metadata": {},
     "output_type": "execute_result"
    }
   ],
   "source": [
    "my_binomial(2, 3, 0.5)"
   ]
  },
  {
   "cell_type": "code",
   "execution_count": 12,
   "metadata": {},
   "outputs": [
    {
     "name": "stdout",
     "output_type": "stream",
     "text": [
      "my binomial: 0.375\n"
     ]
    },
    {
     "data": {
      "text/plain": [
       "0.3750000000000001"
      ]
     },
     "execution_count": 12,
     "metadata": {},
     "output_type": "execute_result"
    }
   ],
   "source": [
    "print('my binomial: {}'.format(my_binomial(2, 3, 0.5)))\n",
    "dist = binom(3, 0.5)    # create a binomial distribution for n=3 and p=0.5\n",
    "dist.pmf(2) #Probability mass function. Returns the probability mass at k = 2."
   ]
  },
  {
   "cell_type": "markdown",
   "metadata": {},
   "source": [
    "# Cumulative probability\n",
    "$$\n",
    "P(k\\leq 2, n=3, p=1/2) = \\sum_{k=0}^2 \\left[ \\frac{n!}{k!(n-k)!}p^k (1-p)^{n-k} \\right] = \\frac{7}{8}\n",
    "$$"
   ]
  },
  {
   "cell_type": "code",
   "execution_count": 14,
   "metadata": {},
   "outputs": [
    {
     "data": {
      "text/plain": [
       "0.8750000000000002"
      ]
     },
     "execution_count": 14,
     "metadata": {},
     "output_type": "execute_result"
    }
   ],
   "source": [
    "cumProbability = 0\n",
    "dist = binom(3, 0.5) #Cumulative distribution function\n",
    "cumProbability += dist.pmf(0)\n",
    "cumProbability += dist.pmf(1)\n",
    "cumProbability += dist.pmf(2)\n",
    "cumProbability"
   ]
  },
  {
   "cell_type": "code",
   "execution_count": 28,
   "metadata": {},
   "outputs": [
    {
     "data": {
      "text/plain": [
       "0.8750000000000002"
      ]
     },
     "execution_count": 28,
     "metadata": {},
     "output_type": "execute_result"
    }
   ],
   "source": [
    "# Other way:\n",
    "arr = np.arange(3)\n",
    "#cumProb = list(map(lambda x: dist.pmf(x), arr))\n",
    "cumProb = dist.pmf(arr)\n",
    "cumProb.sum()"
   ]
  },
  {
   "cell_type": "code",
   "execution_count": 15,
   "metadata": {},
   "outputs": [
    {
     "data": {
      "text/plain": [
       "0.875"
      ]
     },
     "execution_count": 15,
     "metadata": {},
     "output_type": "execute_result"
    }
   ],
   "source": [
    "dist.cdf(2) #Cumulative distribution function"
   ]
  },
  {
   "cell_type": "markdown",
   "metadata": {},
   "source": [
    "# Random Sequence Generator (RSG)"
   ]
  },
  {
   "cell_type": "code",
   "execution_count": 16,
   "metadata": {},
   "outputs": [],
   "source": [
    "import numpy as np\n",
    "from numpy.random import binomial\n",
    "import seaborn as sns"
   ]
  },
  {
   "cell_type": "code",
   "execution_count": 17,
   "metadata": {},
   "outputs": [
    {
     "data": {
      "text/plain": [
       "1"
      ]
     },
     "execution_count": 17,
     "metadata": {},
     "output_type": "execute_result"
    }
   ],
   "source": [
    "p=0.5\n",
    "n=3\n",
    "binomial(n, p)"
   ]
  },
  {
   "cell_type": "code",
   "execution_count": 33,
   "metadata": {},
   "outputs": [
    {
     "data": {
      "text/plain": [
       "(array([0., 1., 2., 3.]), array([12, 42, 39,  7]))"
      ]
     },
     "execution_count": 33,
     "metadata": {},
     "output_type": "execute_result"
    }
   ],
   "source": [
    "# arr = np.array([])\n",
    "# for _ in range(100):\n",
    "#   arr = np.append(arr, binomial(n, p))\n",
    "# uniques, frequencies = np.unique(arr, return_counts=True)\n",
    "# uniques, frequencies"
   ]
  },
  {
   "cell_type": "code",
   "execution_count": 42,
   "metadata": {},
   "outputs": [
    {
     "data": {
      "text/plain": [
       "(array([0, 1, 2, 3]), array([13, 28, 44, 15]))"
      ]
     },
     "execution_count": 42,
     "metadata": {},
     "output_type": "execute_result"
    }
   ],
   "source": [
    "arr = np.array([binomial(n, p) for _ in range(100)])\n",
    "uniques, frequencies = np.unique(arr, return_counts=True)\n",
    "uniques, frequencies"
   ]
  },
  {
   "cell_type": "code",
   "execution_count": 43,
   "metadata": {},
   "outputs": [
    {
     "data": {
      "text/plain": [
       "array([0.13, 0.28, 0.44, 0.15])"
      ]
     },
     "execution_count": 43,
     "metadata": {},
     "output_type": "execute_result"
    }
   ],
   "source": [
    "probabilities = frequencies / len(arr)\n",
    "probabilities"
   ]
  },
  {
   "cell_type": "code",
   "execution_count": 46,
   "metadata": {},
   "outputs": [
    {
     "data": {
      "text/plain": [
       "[0.125, 0.3750000000000001, 0.3750000000000001, 0.125]"
      ]
     },
     "execution_count": 46,
     "metadata": {},
     "output_type": "execute_result"
    }
   ],
   "source": [
    "# Expected values:\n",
    "[binom(3, 0.5).pmf(k) for k in uniques]"
   ]
  },
  {
   "cell_type": "code",
   "execution_count": 47,
   "metadata": {},
   "outputs": [
    {
     "data": {
      "text/plain": [
       "<AxesSubplot:>"
      ]
     },
     "execution_count": 47,
     "metadata": {},
     "output_type": "execute_result"
    },
    {
     "data": {
      "image/png": "[encoded data removed]",
      "text/plain": [
       "<Figure size 432x288 with 1 Axes>"
      ]
     },
     "metadata": {
      "needs_background": "light"
     },
     "output_type": "display_data"
    }
   ],
   "source": [
    "sns.barplot(x = uniques, y = probabilities)"
   ]
  },
  {
   "cell_type": "code",
   "execution_count": 185,
   "metadata": {},
   "outputs": [
    {
     "data": {
      "image/png": "[encoded data removed]",
      "text/plain": [
       "<Figure size 432x288 with 1 Axes>"
      ]
     },
     "metadata": {
      "needs_background": "light"
     },
     "output_type": "display_data"
    },
    {
     "name": "stdout",
     "output_type": "stream",
     "text": [
      "[0 1 2 3] [4 8 7 1]\n"
     ]
    },
    {
     "data": {
      "image/png": "[encoded data removed]",
      "text/plain": [
       "<Figure size 432x288 with 1 Axes>"
      ]
     },
     "metadata": {
      "needs_background": "light"
     },
     "output_type": "display_data"
    },
    {
     "name": "stdout",
     "output_type": "stream",
     "text": [
      "[0 1 2 3] [12 33 44 11]\n"
     ]
    },
    {
     "data": {
      "image/png": "[encoded data removed]",
      "text/plain": [
       "<Figure size 432x288 with 1 Axes>"
      ]
     },
     "metadata": {
      "needs_background": "light"
     },
     "output_type": "display_data"
    },
    {
     "name": "stdout",
     "output_type": "stream",
     "text": [
      "[0 1 2 3] [119 371 378 132]\n"
     ]
    }
   ],
   "source": [
    "n = 3\n",
    "p = 0.5\n",
    "#possibleResults = np.array([0, 1, 2, 3])\n",
    "def plotHist(numTrials):\n",
    "    arr = np.array([binomial(n, p) for _ in range(numTrials)])\n",
    "    \n",
    "    uniques, frequencies = np.unique(arr, return_counts=True)\n",
    "    occurrences = frequencies / len(arr)\n",
    "    barplotOccurrences = sns.barplot(x = uniques, y = occurrences, color = 'red', alpha = 0.7,\n",
    "                label = 'Occurrences')\n",
    "     \n",
    "    barplotExpected = sns.barplot(x = uniques, y = [binom(n, p).pmf(k) for k in uniques], \n",
    "        color = 'blue', alpha = 0.6, label = 'Expected')\n",
    "    for i in barplotExpected.containers:\n",
    "        barplotExpected.bar_label(i)#, label_type='center')\n",
    "    barplotExpected.set_title(f'Binomial Experiment with n = {n}, p = {p}, trials = {numTrials}')\n",
    "    barplotExpected.set_xlabel('Number of successes (k)')\n",
    "    barplotExpected.set_ylabel('Probability & Occurrences')\n",
    "    \n",
    "    plt.legend()\n",
    "    plt.show()\n",
    "    print(uniques, frequencies)\n",
    "plotHist(20)\n",
    "plotHist(100)\n",
    "plotHist(1000)"
   ]
  },
  {
   "cell_type": "code",
   "execution_count": null,
   "metadata": {},
   "outputs": [
    {
     "data": {
      "image/png": "[encoded data removed]",
      "text/plain": [
       "<Figure size 432x288 with 1 Axes>"
      ]
     },
     "metadata": {
      "needs_background": "light"
     },
     "output_type": "display_data"
    },
    {
     "data": {
      "image/png": "[encoded data removed]",
      "text/plain": [
       "<Figure size 432x288 with 1 Axes>"
      ]
     },
     "metadata": {
      "needs_background": "light"
     },
     "output_type": "display_data"
    },
    {
     "data": {
      "image/png": "[encoded data removed]",
      "text/plain": [
       "<Figure size 432x288 with 1 Axes>"
      ]
     },
     "metadata": {
      "needs_background": "light"
     },
     "output_type": "display_data"
    }
   ],
   "source": [
    "# with pyplot:\n",
    "def plot_hist(num_trials):\n",
    "  values = [0,1,2,3]\n",
    "  arr = []\n",
    "  for _ in range(num_trials):\n",
    "    arr.append(binomial(3, 0.5))\n",
    "  simulated = np.unique(arr, return_counts=True)[1]/len(arr)\n",
    "  theoretical = [binom(3, 0.5).pmf(k) for k in values]\n",
    "  plt.bar(values, theoretical, label = 'Theoretical', color = 'red')\n",
    "  plt.bar(values, simulated, label = 'Simulation', alpha = 0.5, color = 'blue')\n",
    "  plt.title('Simulation with {} experiments'.format(num_trials))\n",
    "  plt.show()\n",
    "\n",
    "plot_hist(20)\n",
    "plot_hist(200)\n",
    "plot_hist(20000)"
   ]
  }
 ],
 "metadata": {
  "kernelspec": {
   "display_name": "Python 3.9.12 ('base')",
   "language": "python",
   "name": "python3"
  },
  "language_info": {
   "codemirror_mode": {
    "name": "ipython",
    "version": 3
   },
   "file_extension": ".py",
   "mimetype": "text/x-python",
   "name": "python",
   "nbconvert_exporter": "python",
   "pygments_lexer": "ipython3",
   "version": "3.9.12"
  },
  "orig_nbformat": 4,
  "vscode": {
   "interpreter": {
    "hash": "66e37a4da3c390ba9102db785636e2db61d518923b2ca2e4091350072f76ee72"
   }
  }
 },
 "nbformat": 4,
 "nbformat_minor": 2
}
